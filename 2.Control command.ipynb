{
 "cells": [
  {
   "cell_type": "markdown",
   "metadata": {},
   "source": [
    "- To define a scope, we must write all the commands within that scope inside a (Tab)\n",
    "- If we do not want to run in the scope of something, we can put the ${pass}$ alone in that scope."
   ]
  },
  {
   "cell_type": "markdown",
   "metadata": {},
   "source": [
    "if condition1 or a and condition2:\n",
    "    # condition is true\n",
    "    pass\n",
    "elif condition3 or a and condition4:\n",
    "    # condition1/2 is false and condition3/4 is true\n",
    "    pass\n",
    "else:\n",
    "    # conditions is false (Not true)\n",
    "    pass"
   ]
  },
  {
   "cell_type": "markdown",
   "metadata": {},
   "source": [
    "## Comparison operators:\n",
    "#### ==, is\n",
    "#### !=, not\n",
    "#### >\n",
    "#### <\n",
    "#### <=\n",
    "#### >="
   ]
  },
  {
   "cell_type": "code",
   "execution_count": 2,
   "metadata": {},
   "outputs": [
    {
     "name": "stdin",
     "output_type": "stream",
     "text": [
      " 4\n",
      " 2\n"
     ]
    },
    {
     "name": "stdout",
     "output_type": "stream",
     "text": [
      "4\n"
     ]
    }
   ],
   "source": [
    "a = int(input())\n",
    "b = int(input())\n",
    "if a > b:\n",
    "    print(a)\n",
    "else:\n",
    "    print(b)"
   ]
  },
  {
   "cell_type": "markdown",
   "metadata": {},
   "source": [
    "Train: write a app like a thermometer and print water status"
   ]
  },
  {
   "source": [
    "* `while` loop can run a set of statements as long as a condition is true."
   ],
   "cell_type": "markdown",
   "metadata": {}
  },
  {
   "source": [
    "while False:\n",
    "    # statements\n",
    "    pass"
   ],
   "cell_type": "code",
   "metadata": {},
   "execution_count": 1,
   "outputs": []
  },
  {
   "cell_type": "code",
   "execution_count": null,
   "metadata": {},
   "outputs": [],
   "source": [
    "# for example this code run fibonachi \n",
    "a = 0\n",
    "b = 1\n",
    "while a < 10:\n",
    "    print(a)\n",
    "    c = b\n",
    "    b = a + b\n",
    "    a = c"
   ]
  }
 ],
 "metadata": {
  "kernelspec": {
   "name": "Python 3.8.3 64-bit ('base': conda)",
   "display_name": "Python 3.8.3 64-bit ('base': conda)",
   "metadata": {
    "interpreter": {
     "hash": "98f04d00a5926c4c0dcfbf55225557fdf9ec374c61db842725256fe80c5e7338"
    }
   }
  },
  "language_info": {
   "codemirror_mode": {
    "name": "ipython",
    "version": 3
   },
   "file_extension": ".py",
   "mimetype": "text/x-python",
   "name": "python",
   "nbconvert_exporter": "python",
   "pygments_lexer": "ipython3",
   "version": "3.8.3-final"
  }
 },
 "nbformat": 4,
 "nbformat_minor": 4
}